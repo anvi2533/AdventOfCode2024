{
 "cells": [
  {
   "cell_type": "markdown",
   "metadata": {},
   "source": [
    "# 3a"
   ]
  },
  {
   "cell_type": "code",
   "execution_count": 1,
   "metadata": {},
   "outputs": [],
   "source": [
    "import re\n",
    "\n",
    "def function3b(text_string):\n",
    "\n",
    "    pattern = r\"mul\\(\\d+,\\d+\\)\"\n",
    "\n",
    "    matches = re.findall(pattern, text_string)\n",
    "\n",
    "    result = []\n",
    "\n",
    "    for i in matches:\n",
    "\n",
    "        pattern = r\"\\d+\"\n",
    "\n",
    "        items = []\n",
    "\n",
    "        items.extend(re.findall(pattern, i))\n",
    "\n",
    "        items_int = [int(item) for item in items]\n",
    "\n",
    "        result.append(items_int[0]*items_int[1])\n",
    "\n",
    "    return sum(result)\n",
    "\n",
    "    "
   ]
  },
  {
   "cell_type": "code",
   "execution_count": 2,
   "metadata": {},
   "outputs": [
    {
     "data": {
      "text/plain": [
       "170778545"
      ]
     },
     "execution_count": 2,
     "metadata": {},
     "output_type": "execute_result"
    }
   ],
   "source": [
    "file_name = \"Inputs\\\\input_03.txt\"\n",
    "\n",
    "text_string = []\n",
    "\n",
    "with open(file_name, 'r') as file:\n",
    "\n",
    "    text_ = file.read()\n",
    "\n",
    "    text_string.append(text_)\n",
    "\n",
    "text_string = ''.join(text_string)\n",
    "\n",
    "function3b(text_string)"
   ]
  },
  {
   "cell_type": "markdown",
   "metadata": {},
   "source": [
    "# 3b"
   ]
  },
  {
   "cell_type": "code",
   "execution_count": 3,
   "metadata": {},
   "outputs": [
    {
     "name": "stdout",
     "output_type": "stream",
     "text": [
      "Occurrences of 'text' found at positions: [17, 60, 85]\n"
     ]
    }
   ],
   "source": [
    "import re\n",
    "\n",
    "def find_occurrences(text, target_string):\n",
    "    matches = [match.start() for match in re.finditer(re.escape(target_string), text)]\n",
    "    return matches\n",
    "\n",
    "# Example usage\n",
    "long_text = \"\"\"This is a sample text. Text occurs multiple times. Find all text occurrences in this text.\"\"\"\n",
    "target = \"text\"\n",
    "\n",
    "occurrences = find_occurrences(long_text, target)\n",
    "print(f\"Occurrences of '{target}' found at positions: {occurrences}\")\n"
   ]
  },
  {
   "cell_type": "code",
   "execution_count": 4,
   "metadata": {},
   "outputs": [
    {
     "data": {
      "text/plain": [
       "82868252"
      ]
     },
     "execution_count": 4,
     "metadata": {},
     "output_type": "execute_result"
    }
   ],
   "source": [
    "import re\n",
    "import pandas as pd\n",
    "\n",
    "dict = {\n",
    "    'type':['do'],\n",
    "    'location': [0],\n",
    "    'id': [0]\n",
    "}\n",
    "\n",
    "dos = find_occurrences(text_string, 'do()')\n",
    "\n",
    "donts = find_occurrences(text_string, \"don't()\")\n",
    "\n",
    "for i,location in enumerate(dos):\n",
    "\n",
    "    dict['location'].append(location)\n",
    "    dict['type'].append('do')\n",
    "    dict['id'].append(i+1)\n",
    "\n",
    "for i,location in enumerate(donts):\n",
    "\n",
    "    dict['location'].append(location)\n",
    "    dict['type'].append(f'dont')\n",
    "    dict['id'].append(i)\n",
    "\n",
    "result = pd.DataFrame(dict)\n",
    "\n",
    "result_sorted = result.sort_values(by='location')\n",
    "\n",
    "result_sorted.reset_index(inplace=True)\n",
    "\n",
    "result_sorted\n",
    "\n",
    "text_string\n",
    "\n",
    "chars = {\n",
    "    'location':[],\n",
    "    'char':[]\n",
    "}\n",
    "\n",
    "for i,char in enumerate(text_string):\n",
    "\n",
    "    chars['location'].append(i)\n",
    "    chars['char'].append(char)\n",
    "\n",
    "df_chars = pd.DataFrame(chars)\n",
    "\n",
    "df_chars_merged = df_chars.merge(result_sorted, how='left', on='location')\n",
    "\n",
    "cols = ['location','char','type']\n",
    "\n",
    "df_chars_merged_ffill = df_chars_merged[cols].ffill()\n",
    "\n",
    "df = df_chars_merged_ffill.copy()\n",
    "\n",
    "df_list = df.loc[df['type'] == 'do', 'char'].to_list()\n",
    "\n",
    "df_string = ''.join(df_list)\n",
    "\n",
    "df_string\n",
    "\n",
    "function3b(df_string)\n",
    "\n",
    "\n",
    "82868252\n",
    "\n",
    "\n",
    "\n",
    "\n",
    "    "
   ]
  },
  {
   "cell_type": "markdown",
   "metadata": {},
   "source": [
    "# 4a"
   ]
  },
  {
   "cell_type": "code",
   "execution_count": 5,
   "metadata": {},
   "outputs": [
    {
     "data": {
      "text/plain": [
       "array([['M', 'X', 'X', ..., 'X', 'S', '\\n'],\n",
       "       ['S', 'A', 'S', ..., 'A', 'A', '\\n'],\n",
       "       ['M', 'A', 'S', ..., 'X', 'M', '\\n'],\n",
       "       ...,\n",
       "       ['M', 'S', 'M', ..., 'M', 'M', '\\n'],\n",
       "       ['A', 'S', 'A', ..., 'A', 'X', '\\n'],\n",
       "       ['S', 'M', 'A', ..., 'M', 'M', '\\n']],\n",
       "      shape=(140, 141), dtype='<U1')"
      ]
     },
     "execution_count": 5,
     "metadata": {},
     "output_type": "execute_result"
    }
   ],
   "source": [
    "import re\n",
    "import numpy as np\n",
    "\n",
    "file_name = \"Inputs\\\\input_04.txt\"\n",
    "\n",
    "occurrences = []\n",
    "\n",
    "with open(file_name, 'r') as file:\n",
    "\n",
    "    lines = file.readlines()\n",
    "\n",
    "rows = []\n",
    "\n",
    "for i in lines:\n",
    "\n",
    "    line = i\n",
    "\n",
    "    chars = []\n",
    "\n",
    "    for j in line:\n",
    "\n",
    "        chars.append(j)\n",
    "\n",
    "    rows.append(chars)\n",
    "\n",
    "matrix = np.array(rows)\n",
    "\n",
    "matrix\n",
    "\n",
    "\n",
    "\n"
   ]
  },
  {
   "cell_type": "code",
   "execution_count": 6,
   "metadata": {},
   "outputs": [
    {
     "data": {
      "text/plain": [
       "860"
      ]
     },
     "execution_count": 6,
     "metadata": {},
     "output_type": "execute_result"
    }
   ],
   "source": [
    "#columns\n",
    "\n",
    "occurrences = []\n",
    "\n",
    "for i in list(range(len(matrix))):\n",
    "\n",
    "    row = ''.join(matrix[i])\n",
    "\n",
    "    column = ''.join(matrix.T[i])\n",
    "\n",
    "    occurrences.extend(find_occurrences(row, 'XMAS'))\n",
    "    occurrences.extend(find_occurrences(row[::-1], 'XMAS'))\n",
    "    occurrences.extend(find_occurrences(column, 'XMAS'))\n",
    "    occurrences.extend(find_occurrences(column[::-1], 'XMAS'))\n",
    "\n",
    "\n",
    "len(occurrences)\n",
    "\n"
   ]
  },
  {
   "cell_type": "code",
   "execution_count": null,
   "metadata": {},
   "outputs": [],
   "source": [
    "def diag(start_x, start_y, direction, matrix):\n",
    "\n",
    "    start_x = 1\n",
    "    start_y = 1\n",
    "    direction = 'ullr'\n",
    "    matrix = [[1,2,3,4,5],[6,7,8,9,10],[11,12,13,14,15],[16,17,18,19,20],[21,22,23,24,25]]\n",
    "\n",
    "    if direction == 'ullr':\n",
    "\n",
    "        for i in list(range(len(matrix[0]))):\n",
    "\n",
    "            "
   ]
  },
  {
   "cell_type": "code",
   "execution_count": 31,
   "metadata": {},
   "outputs": [
    {
     "name": "stdout",
     "output_type": "stream",
     "text": [
      "[[1, 2, 3, 4, 5], [6, 7, 8, 9, 10], [11, 12, 13, 14, 15], [16, 17, 18, 19, 20], [21, 22, 23, 24, 25]]\n",
      "0\n",
      "1\n",
      "2\n",
      "3\n",
      "4\n"
     ]
    }
   ],
   "source": [
    "# diagonals\n",
    "\n",
    "matrix = [[1,2,3,4,5],[6,7,8,9,10],[11,12,13,14,15],[16,17,18,19,20],[21,22,23,24,25]]\n",
    "\n",
    "print(matrix)\n",
    "\n",
    "dict = {\n",
    "    'diag_id': [],\n",
    "    'coords': [],\n",
    "    'direction': []\n",
    "}\n",
    "\n"
   ]
  }
 ],
 "metadata": {
  "kernelspec": {
   "display_name": ".venv",
   "language": "python",
   "name": "python3"
  },
  "language_info": {
   "codemirror_mode": {
    "name": "ipython",
    "version": 3
   },
   "file_extension": ".py",
   "mimetype": "text/x-python",
   "name": "python",
   "nbconvert_exporter": "python",
   "pygments_lexer": "ipython3",
   "version": "3.13.1"
  }
 },
 "nbformat": 4,
 "nbformat_minor": 2
}
