{
 "cells": [
  {
   "cell_type": "markdown",
   "metadata": {},
   "source": [
    "# 3a"
   ]
  },
  {
   "cell_type": "code",
   "execution_count": 29,
   "metadata": {},
   "outputs": [
    {
     "data": {
      "text/plain": [
       "170778545"
      ]
     },
     "execution_count": 29,
     "metadata": {},
     "output_type": "execute_result"
    }
   ],
   "source": [
    "import re\n",
    "\n",
    "file_name = \"Inputs\\\\input_03.txt\"\n",
    "\n",
    "text_string = []\n",
    "\n",
    "with open(file_name, 'r') as file:\n",
    "\n",
    "    text_ = file.read()\n",
    "\n",
    "    text_string.append(text_)\n",
    "\n",
    "text_string\n",
    "\n",
    "pattern = r\"mul\\(\\d+,\\d+\\)\"\n",
    "\n",
    "matches = []\n",
    "for text in text_string:\n",
    "    matches.extend(re.findall(pattern, text))\n",
    "\n",
    "result = []\n",
    "\n",
    "for i in matches:\n",
    "\n",
    "    pattern = r\"\\d+\"\n",
    "\n",
    "    items = []\n",
    "\n",
    "    items.extend(re.findall(pattern, i))\n",
    "\n",
    "    items_int = [int(item) for item in items]\n",
    "\n",
    "    result.append(items_int[0]*items_int[1])\n",
    "\n",
    "sum(result)\n"
   ]
  },
  {
   "cell_type": "markdown",
   "metadata": {},
   "source": [
    "# 3b"
   ]
  },
  {
   "cell_type": "code",
   "execution_count": 34,
   "metadata": {},
   "outputs": [
    {
     "ename": "_IncompleteInputError",
     "evalue": "incomplete input (2408480916.py, line 23)",
     "output_type": "error",
     "traceback": [
      "\u001b[1;36m  Cell \u001b[1;32mIn[34], line 23\u001b[1;36m\u001b[0m\n\u001b[1;33m    \u001b[0m\n\u001b[1;37m    ^\u001b[0m\n\u001b[1;31m_IncompleteInputError\u001b[0m\u001b[1;31m:\u001b[0m incomplete input\n"
     ]
    }
   ],
   "source": [
    "import re\n",
    "\n",
    "text_string\n",
    "\n",
    "texts_ = []\n",
    "\n",
    "for text in text_string:\n",
    "\n",
    "    text_repl = text.replace('do()','####').replace(\"don't()\", '####')\n",
    "\n",
    "    texts_.extend(text_repl.split('####'))\n",
    "\n",
    "dos = []\n",
    "\n",
    "even_list = list(range(0, len(texts_), 2))\n",
    "\n",
    "print(even_list)\n",
    "\n",
    "for i in list(range(len(texts_))):\n",
    "\n",
    "    \n",
    "\n",
    "\n"
   ]
  }
 ],
 "metadata": {
  "kernelspec": {
   "display_name": ".venv",
   "language": "python",
   "name": "python3"
  },
  "language_info": {
   "codemirror_mode": {
    "name": "ipython",
    "version": 3
   },
   "file_extension": ".py",
   "mimetype": "text/x-python",
   "name": "python",
   "nbconvert_exporter": "python",
   "pygments_lexer": "ipython3",
   "version": "3.13.1"
  }
 },
 "nbformat": 4,
 "nbformat_minor": 2
}
